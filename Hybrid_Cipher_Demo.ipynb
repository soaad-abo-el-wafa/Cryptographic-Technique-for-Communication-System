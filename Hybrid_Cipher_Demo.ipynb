{
  "nbformat": 4,
  "nbformat_minor": 0,
  "metadata": {
    "colab": {
      "name": "Hybrid_Cipher_Demo.ipynb",
      "provenance": []
    },
    "kernelspec": {
      "name": "python3",
      "display_name": "Python 3"
    }
  },
  "cells": [
    {
      "cell_type": "markdown",
      "metadata": {
        "id": "ClKkph6j8H3e"
      },
      "source": [
        "# PROJECT \n",
        "\n",
        "# **CRPTOGRAPHY SYSTEM USING VIGENERE CIPHER AND POLYBIUS CIPHER**\n",
        "\n",
        "### By- SHIVAM VATSHAYAN "
      ]
    },
    {
      "cell_type": "code",
      "metadata": {
        "id": "JZBjAPjrN7H4"
      },
      "source": [
        "#Hello\n",
        "#How's you ?\n",
        "#This Hybrid Cipher is developed for Communication security for Army, Secure high level Communication, Message and Data Protection from attackers  \n"
      ],
      "execution_count": 9,
      "outputs": []
    },
    {
      "cell_type": "markdown",
      "metadata": {
        "id": "lS8y7cgH4c4g"
      },
      "source": [
        "## Contact me now (vatshayan007@gmail.com) for Code of this Top class project"
      ]
    },
    {
      "cell_type": "code",
      "metadata": {
        "id": "H8Ju6-z9ZG_5"
      },
      "source": [
        "# Python code to implement Cryptographic System \n",
        "# First Step is to Give Input to the System\n",
        "\n",
        "# System 1 : Vigenere Cipher \n",
        "\n",
        "# This function generates the \n",
        "# key in a cyclic manner until \n",
        "# it's length isn't equal to \n",
        "# the length of original text \n",
        "def generateKey(string, key): \n",
        "\tkey = list(key) \n",
        "\tif len(string) == len(key): \n",
        "\t\treturn(key) \n",
        "\telse: \n",
        "\t\tfor i in range(len(string) -\n",
        "\t\t\t\t\tlen(key)): \n",
        "\t\t\tkey.append(key[i % len(key)]) \n",
        "\treturn(\"\" . join(key)) "
      ],
      "execution_count": 11,
      "outputs": []
    },
    {
      "cell_type": "markdown",
      "metadata": {
        "id": "nUiog3xI-VJx"
      },
      "source": [
        "Wait !\n",
        "\n",
        "This is Only 10% code, for Full code mail me Now. \n",
        "\n",
        "Full Project Code is bit longer !!\n",
        "\n",
        "## Mail me Now (vatshayan007@gmail.com) for full Code  ! \n",
        "\n",
        "Let's Discuss about this project. \n",
        "\n",
        "Feel Free to Contact me !!"
      ]
    }
  ]
}